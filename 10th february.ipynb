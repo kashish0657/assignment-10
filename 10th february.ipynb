{
 "cells": [
  {
   "cell_type": "markdown",
   "id": "3c02c03a-e133-41d6-8d62-0757c2002219",
   "metadata": {},
   "source": [
    "10th february"
   ]
  },
  {
   "cell_type": "code",
   "execution_count": null,
   "id": "4af61c0d-40b6-4f85-9e45-5638b867cb94",
   "metadata": {},
   "outputs": [],
   "source": [
    "1:ans:-\n",
    "\n",
    "In python ,  we use the open() method to open files.\n",
    "\n",
    "            Modes of opening files:-\n",
    "    \n",
    "    r :- Open a file for reading . (default)\n",
    "    \n",
    "    w :- Open a file for writing . Creates a new file if it does not exists or truncates the file if\n",
    "            it exists . \n",
    "        \n",
    "    x :- Open a file for exclusive creation . if the file already exists , the operation fails .\n",
    "    \n",
    "    a :- Open a file for appending at the end of the file without truncating it. Creates a new\n",
    "            file if it does not exists .\n",
    "        \n",
    "    t :- Open in text mode.\n",
    "    \n",
    "    b :- open in binary mode.\n",
    "    \n",
    "    + :- Open a file for updating.\n",
    "    \n",
    "    "
   ]
  },
  {
   "cell_type": "code",
   "execution_count": null,
   "id": "98a36b32-4386-441f-9e15-5eae78aeb974",
   "metadata": {},
   "outputs": [],
   "source": [
    "2:ans:-\n",
    "\n",
    "The close() method closes an open file . You should always close your files , in some cases , \n",
    "    due to buffering , changes made to file may not show until you close the file . \n",
    "    \n",
    "    \n",
    "    It is important to close a file  because files are limited resource managed by the operating\n",
    "    system , making sure files are closed after use will protect against hard to debug   issues like running\n",
    "    out of the fle handles or experiencing corupted data . "
   ]
  },
  {
   "cell_type": "code",
   "execution_count": null,
   "id": "00d7257d-f78c-4d74-bae5-be70e7e35c24",
   "metadata": {},
   "outputs": [],
   "source": [
    "3:ans:-\n",
    "\n",
    "# open the file using open function\n",
    "file = open(\"sample.txt\")\n",
    "\n",
    "# attempt to write in the file\n",
    "file.write(\"I want to become a data scientist\")\n",
    "\n",
    "# closing the file\n",
    "file.close()\n",
    "\n",
    "# again open the file\n",
    "file = open(\"sample.txt\")\n",
    "\n",
    "#again write a file\n",
    "file.write(\"I want to become a data scientist\")\n",
    "\n",
    "# reading from file\n",
    "print(file.read())"
   ]
  },
  {
   "cell_type": "code",
   "execution_count": null,
   "id": "59c271b1-19b7-424c-be59-e746b359682b",
   "metadata": {},
   "outputs": [],
   "source": [
    "4:ans:-\n",
    "\n",
    "Read() :- Returns the read bytes in the form of a sring . Reads n bytes  , if n is not specified . \n",
    "            Then readsthe entre file .\n",
    "    \n",
    "    \n",
    "Readline() :- Reads a line of the file and returns  in the formof a string. Readline() function\n",
    "                does not read more than one line at a time .Readline() method is very efficient in reading \n",
    "                the daa from a large file because it fetches a data line by line and returns and print on the screens . \n",
    "        \n",
    "        \n",
    "Readlines() :- Reads all the lines and returns them as a string element in alist . Readlines() is used \n",
    "                    to read all the lines at a single go and  then return them as a string  element\n",
    "               in the string . \n",
    "    \n",
    "    "
   ]
  },
  {
   "cell_type": "code",
   "execution_count": null,
   "id": "d7507a44-3e1b-4ffd-a935-c05e6d80cdc9",
   "metadata": {},
   "outputs": [],
   "source": [
    "5:ans:-\n",
    "\n",
    "The with statement works with the open() function to open a file . Unline open() where  you\n",
    "have to close the file with the close() method , the with statement closes the file for you\n",
    "without you telling it to . \n",
    "\n",
    "The advantage is  opening files using the with statement is generally recommended because it ensures that\n",
    "open files descriptors are automatically closed after the flow of execution leaves the with code block . "
   ]
  },
  {
   "cell_type": "code",
   "execution_count": null,
   "id": "872df878-e0a2-43c9-a3e5-1f8cf28bd4d2",
   "metadata": {},
   "outputs": [],
   "source": [
    "6:ans:-\n",
    "\n",
    "Write() :-  Write() method displays the output  but do not provide a new line character . \n",
    "            Write() is used to write a string  to an already opened file.\n",
    "    \n",
    "    \n",
    "Writeline() :- Writeline() method displays the output and also provides a new line character if the\n",
    "                end of the string . This would  set a new line for the next output .\n",
    "               Its method  is used to write a list of strings in an opened file .\n",
    "        "
   ]
  }
 ],
 "metadata": {
  "kernelspec": {
   "display_name": "Python 3 (ipykernel)",
   "language": "python",
   "name": "python3"
  },
  "language_info": {
   "codemirror_mode": {
    "name": "ipython",
    "version": 3
   },
   "file_extension": ".py",
   "mimetype": "text/x-python",
   "name": "python",
   "nbconvert_exporter": "python",
   "pygments_lexer": "ipython3",
   "version": "3.10.8"
  }
 },
 "nbformat": 4,
 "nbformat_minor": 5
}
